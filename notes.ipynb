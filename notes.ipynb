{
 "cells": [
  {
   "cell_type": "markdown",
   "metadata": {},
   "source": [
    "# Amazon Q Developer in Action: Supercharging application development\n",
    "\n",
    "Welcome to this interactive demo of [Amazon Q Developer](https://docs.aws.amazon.com/amazonq/latest/qdeveloper-ug/what-is.html). In this walkthrough, we'll explore how to use Amazon Q Developer to enhance your application development process on AWS.\n",
    "\n",
    "For the presentation slides and additional information, [see](https://d1vse5fs7nznkq.cloudfront.net/). \n",
    "\n",
    "**Table of Contents**\n",
    "\n",
    "1. Introduction to Amazon Q Developer\n",
    "2. Using Amazon Q Developer in the AWS console\n",
    "3. Securing Your Code With Amazon Q Developer\n",
    "4. AI-assisted coding with Amazon Q Developer\n",
    "5. Using Amazon Q to generate comments and create a README\n",
    "- Conclusion and next steps\n",
    "\n",
    "**Pre-requisite**\n",
    "Be we get started please ensure you have downloaded and installed the following:\n",
    "\n",
    "- [Visual Studio Code](https://code.visualstudio.com/) \n",
    "- [Python](https://www.python.org/downloads/) \n",
    "- [AWS CLI](https://docs.aws.amazon.com/cli/latest/userguide/getting-started-install.html)\n",
    "\n",
    "Once you have installed the pre-requisites you can then install the [Amazon Q extension](https://marketplace.visualstudio.com/items?itemName=AmazonWebServices.amazon-q-vscode) for VScode.\n",
    "\n",
    ">NOTE: After installing Amazon Q you will need to setup a Amazon Builder ID if you do not already have one. For more detailed instructions go [here](https://catalog.us-east-1.prod.workshops.aws/workshops/fe2c944b-f014-44d6-a243-1fc2e30b5f73/en-US/getting-started#pre-requisite). \n"
   ]
  },
  {
   "cell_type": "markdown",
   "metadata": {},
   "source": [
    "## 1. Introduction to Amazon Q Developer\n",
    "\n",
    "[Amazon Q Developer](https://docs.aws.amazon.com/amazonq/latest/qdeveloper-ug/what-is.html) is a generative artificial intelligence (AI) powered conversational assistant\n",
    "that can help you understand, build, extend, and operate AWS applications. You can ask questions\n",
    "about AWS architecture, your AWS resources, best practices, documentation, support, and more.\n",
    "\n",
    "Amazon Q is supported in the AWS Management Console, IDEs like VScode and JetBrains, AWS Documentation Site, Command Line, and even Microsoft Teams and Slack.\n",
    "\n",
    "**Key features of Amazon Q Developer**\n",
    "\n",
    "Amazon Q Developer includes the following capabilities:\n",
    "- `Chat` – Amazon Q answers natural language questions in English about AWS, including questions about AWS service selection, AWS Command Line Interface (AWS CLI) usage, documentation, best practices, and your AWS resources. Amazon Q responds with information summaries or step-by-step instructions, and includes links to its information sources.\n",
    "- `Conversation memory` – Amazon Q uses the context of your conversation to inform future responses for the duration of your conversation.\n",
    "- `Code improvements and advice` – Within IDEs, Amazon Q can answer questions about software development, improve your code, and generate new code.\n",
    "- `Code completion` – As you write code, Amazon Q automatically generates suggestions, in real time, based on your existing code and comments.\n",
    "- `Troubleshoot and support` – Amazon Q can help you understand errors in the AWS Management Console and provides access to live AWS Support agents to address your AWS questions and issues.\n",
    "\n",
    "For more information about these and other Amazon Q features, see Understanding Amazon Q Developer features."
   ]
  },
  {
   "cell_type": "markdown",
   "metadata": {},
   "source": [
    "## 2. Using Amazon Q Developer in the AWS console\n",
    "\n",
    "Use Amazon Q Developer in the AWS Management Console, AWS Console Mobile Application, AWS Marketing website, AWS Documentation website, and chat channels integrated with AWS Chatbot to ask questions about AWS. You can ask Amazon Q about AWS architecture, best practices, support, and documentation. Amazon Q can also help with code that you're writing with the AWS SDKs and AWS Command Line Interface (AWS CLI).\n",
    "\n",
    "In the AWS Management Console, you can ask Amazon Q about:\n",
    "- AWS resources and costs\n",
    "- contact AWS Support directly\n",
    "- diagnose common console errors.\n",
    "\n",
    "\n"
   ]
  },
  {
   "cell_type": "markdown",
   "metadata": {
    "vscode": {
     "languageId": "plaintext"
    }
   },
   "source": [
    "### Amazon Q in the console\n",
    "\n",
    "Lets take moment to open the console and try out Q.\n",
    "\n",
    "The following are example questions that demonstrate how Amazon Q can help you build on AWS:\n",
    "\n",
    "```markdown\n",
    "- What’s the maximum runtime for a Lambda function?\n",
    "- How do I list my Amazon S3 buckets?\n",
    "- Can you tell me how many VPCs I have in this region?\n",
    "- What was my cost breakdown by service for the past three months?\n",
    "- How much did we spend on SageMaker in June?\n",
    "```"
   ]
  },
  {
   "cell_type": "markdown",
   "metadata": {},
   "source": [
    "## 3. Securing Your Code With Amazon Q Developer\n",
    "\n",
    "The focus on this section is to educate you on how to use the Security scanning feature of 'Amazon Q Developer' to detect security policy violations and vulnerabilities in your code to help you improve it's security quality. You can find the entire workshop [here](https://catalog.us-east-1.prod.workshops.aws/workshops/fe2c944b-f014-44d6-a243-1fc2e30b5f73/en-US/introduction). \n",
    "\n",
    "Amazon Q can scan your codebase for security vulnerabilities and code quality issues to improve the posture of your applications throughout the development cycle. You can initiate a scan of an entire codebase, analyzing all files in your local project or workspace, or enable auto scans that assess your code as you write it.\n",
    "\n"
   ]
  },
  {
   "cell_type": "markdown",
   "metadata": {},
   "source": [
    "### Example-1: Inherited code (Unencrypted AWS credentials)\n",
    "\n",
    "In this use case we have inherited some code and we are not fully aware of what it does. Unfortunately, this code contains a vulnerability, unencrypted AWS credentials can be logged which can expose those credentials to an attacker. Encrypt sensitive data, such as credentials, before they are logged to make the code more secure.\n",
    "\n",
    "Lets use Amazon Q to scan it and determine how to fix it:"
   ]
  },
  {
   "cell_type": "code",
   "execution_count": 2,
   "metadata": {},
   "outputs": [],
   "source": [
    "# Security issue ./scr/1-security-issue.py\n",
    "def log_credentials_noncompliant():\n",
    "    import boto3\n",
    "    import logging\n",
    "    session = boto3.Session()\n",
    "    credentials = session.get_credentials()\n",
    "    credentials = credentials.get_frozen_credentials()\n",
    "    access_key = credentials.access_key\n",
    "    secret_key = credentials.secret_key\n",
    "\n",
    "    # Noncompliant: credentials are written to the logger.\n",
    "    logging.info('Access key: ', access_key)\n",
    "    logging.info('secret access key: ', secret_key)"
   ]
  },
  {
   "cell_type": "code",
   "execution_count": 5,
   "metadata": {},
   "outputs": [],
   "source": [
    "# Paste the compliant code.\n"
   ]
  },
  {
   "cell_type": "markdown",
   "metadata": {},
   "source": [
    "### Example-2: Inherited code (Open Redirect Vulnerability)\n",
    "\n",
    "In this section we have an application that has a Open Redirect Vulnerability. This is an security weakness where an attacker could supply a malicious URL as an input, potentially leading users to phishing or malware sites. This is a common security flaw in web applications that can be exploited to conduct phishing attacks or distribute malware.\n",
    "\n",
    "In this example we will ask Q examine the code and resolve the issue."
   ]
  },
  {
   "cell_type": "code",
   "execution_count": null,
   "metadata": {},
   "outputs": [],
   "source": [
    "# Validation issue: ./src/validation_issue.py\n",
    "from flask import Flask, request, redirect\n",
    "\n",
    "app = Flask(__name__)\n",
    "\n",
    "@app.route('/redirect')\n",
    "def redirect_url_noncompliant():\n",
    "    endpoint = request.args['url']\n",
    "    return redirect(endpoint)\n",
    "\n",
    "\n",
    "if __name__ == '__main__':\n",
    "    app.run(debug=True)"
   ]
  },
  {
   "cell_type": "code",
   "execution_count": null,
   "metadata": {},
   "outputs": [],
   "source": [
    "# Paste the compliant code."
   ]
  },
  {
   "cell_type": "markdown",
   "metadata": {},
   "source": [
    "## 4. AI-assisted coding with Amazon Q Developer\n",
    "\n",
    "In this section, we'll demonstrate how Amazon Q Developer can assist in writing Python scripts for common AWS tasks. We'll showcase its ability to generate code, explain concepts, and modify scripts based on additional requirements.\n",
    "\n",
    "Create functions for the following tasks:\n",
    "- list all AWS regions\n",
    "- list VPCs in AWS region\n",
    "- *list all S3 buckets*\n",
    "- *list of all instances in a region*\n",
    "- *Create an s3 bucket*\n"
   ]
  },
  {
   "cell_type": "code",
   "execution_count": null,
   "metadata": {},
   "outputs": [],
   "source": [
    "# List Amazon VPCs, S3 buckets, instances and creates an S3 bucket"
   ]
  },
  {
   "cell_type": "markdown",
   "metadata": {},
   "source": [
    ">If there is time create an S3 bucket using CloudFormation. `./infra/bucket.yaml`"
   ]
  },
  {
   "cell_type": "markdown",
   "metadata": {},
   "source": [
    "## 5. Using Amazon Q to generate comments and create a README\n",
    "\n",
    "In this section, we'll use Amazon Q Developer to add comprehensive comments to our previously generated AWS Python scripts and create a detailed README file for the project.\n",
    "\n",
    "Amazon Q Developer not only assists in code generation but also in creating clear, informative documentation, which is crucial for maintaining and scaling AWS projects."
   ]
  },
  {
   "cell_type": "code",
   "execution_count": 8,
   "metadata": {},
   "outputs": [],
   "source": [
    "# Paste code with comments"
   ]
  },
  {
   "cell_type": "markdown",
   "metadata": {},
   "source": [
    "## 6. Closing\n",
    "\n",
    "As AI-assisted development tools like Amazon Q continue to evolve, they will play an increasingly crucial role in cloud computing and AWS development. However, it's important to remember:\n",
    "\n",
    "- Always review and understand AI-generated code before using it in production.\n",
    "- Use Amazon Q as a powerful assistant, but combine it with your expertise and judgment.\n",
    "- Stay updated with AWS best practices and security guidelines, using Amazon Q to reinforce and implement them.\n",
    "\n",
    "**Final Thoughts**\n",
    "Amazon Q Developer represents a significant step forward in AI-assisted AWS development. By leveraging its capabilities, developers can not only code more efficiently but also learn and implement AWS best practices more effectively. As we continue to explore and integrate these AI tools, we're not just changing how we write code – we're reshaping the landscape of cloud development itself.\n",
    "Thank you for joining this exploration of Amazon Q Developer in action. Let's embrace these powerful tools to build more secure, efficient, and innovative solutions on AWS.\n"
   ]
  }
 ],
 "metadata": {
  "kernelspec": {
   "display_name": "venv",
   "language": "python",
   "name": "python3"
  },
  "language_info": {
   "codemirror_mode": {
    "name": "ipython",
    "version": 3
   },
   "file_extension": ".py",
   "mimetype": "text/x-python",
   "name": "python",
   "nbconvert_exporter": "python",
   "pygments_lexer": "ipython3",
   "version": "3.12.4"
  }
 },
 "nbformat": 4,
 "nbformat_minor": 2
}
